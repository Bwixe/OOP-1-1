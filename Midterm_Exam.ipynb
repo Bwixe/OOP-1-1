{
  "nbformat": 4,
  "nbformat_minor": 0,
  "metadata": {
    "colab": {
      "name": "Midterm Exam.ipynb",
      "provenance": [],
      "collapsed_sections": [],
      "authorship_tag": "ABX9TyNutnI+ll0pJCgkcWxPUHXp",
      "include_colab_link": true
    },
    "kernelspec": {
      "name": "python3",
      "display_name": "Python 3"
    },
    "language_info": {
      "name": "python"
    }
  },
  "cells": [
    {
      "cell_type": "markdown",
      "metadata": {
        "id": "view-in-github",
        "colab_type": "text"
      },
      "source": [
        "<a href=\"https://colab.research.google.com/github/Bwixe/OOP-1-1/blob/main/Midterm_Exam.ipynb\" target=\"_parent\"><img src=\"https://colab.research.google.com/assets/colab-badge.svg\" alt=\"Open In Colab\"/></a>"
      ]
    },
    {
      "cell_type": "code",
      "source": [
        "def main():\n",
        "    class TemperatureConversion:\n",
        "        def __init__(self, temp=1.0):\n",
        "            self._temp = temp\n",
        "\n",
        "    class CelsiusToFahrenheit(TemperatureConversion):\n",
        "        def conversion(self):\n",
        "            return (self._temp*9)/5 + 32\n",
        "    \n",
        "    class CelsiusToKelvin(TemperatureConversion):\n",
        "        def conversion(self):\n",
        "            return self._temp + 273.15\n",
        "    CelsiusTemp = float(input(\"Enter the temperature in Celsius: \"))\n",
        "    convert = CelsiusToKelvin(CelsiusTemp)\n",
        "    print(str(convert.conversion()) + \" Kelvin\")\n",
        "    convert = CelsiusToFahrenheit(CelsiusTemp)\n",
        "    print(str(convert.conversion()) + \" Fahrenheit\")\n",
        "\n",
        "    class FahrenheitToCelsius(TemperatureConversion):\n",
        "        def conversion(self):\n",
        "            return (self._temp - 12) * 5/9\n",
        "\n",
        "    FahrenheitTemp = float(input(\"Enter the temperature in Fahrenheit: \"))\n",
        "    convert = FahrenheitToCelsius(FahrenheitTemp)\n",
        "    print(str(convert.conversion()) + \" Celsius\")\n",
        "\n",
        "    class KelvinToCelsius(TemperatureConversion):\n",
        "        def conversion(self):\n",
        "            return self._temp - 273.15\n",
        "\n",
        "    KelvinTemp = float(input(\"Enter the temperature in Kelvin: \"))\n",
        "    convert = KelvinToCelsius(KelvinTemp)\n",
        "    print(str(convert.conversion()) + \" Celsius\")\n",
        "\n",
        "main()\n"
      ],
      "metadata": {
        "colab": {
          "base_uri": "https://localhost:8080/"
        },
        "id": "u27000bNPMZB",
        "outputId": "a415aa1e-3671-4fce-8b32-b7120b220dda"
      },
      "execution_count": 27,
      "outputs": [
        {
          "output_type": "stream",
          "name": "stdout",
          "text": [
            "Enter the temperature in Celsius: 9\n",
            "282.15 Kelvin\n",
            "48.2 Fahrenheit\n",
            "Enter the temperature in Fahrenheit: 9\n",
            "-1.6666666666666667 Celsius\n",
            "Enter the temperature in Kelvin: 0\n",
            "-273.15 Celsius\n"
          ]
        }
      ]
    }
  ]
}