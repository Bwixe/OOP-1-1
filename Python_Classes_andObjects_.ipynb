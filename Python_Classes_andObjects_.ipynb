{
  "nbformat": 4,
  "nbformat_minor": 0,
  "metadata": {
    "colab": {
      "name": "Python Classes andObjects .ipynb",
      "provenance": [],
      "authorship_tag": "ABX9TyM6mdSShpU4JWUv8Hg1446L",
      "include_colab_link": true
    },
    "kernelspec": {
      "name": "python3",
      "display_name": "Python 3"
    },
    "language_info": {
      "name": "python"
    }
  },
  "cells": [
    {
      "cell_type": "markdown",
      "metadata": {
        "id": "view-in-github",
        "colab_type": "text"
      },
      "source": [
        "<a href=\"https://colab.research.google.com/github/Bwixe/OOP-1-1/blob/main/Python_Classes_andObjects_.ipynb\" target=\"_parent\"><img src=\"https://colab.research.google.com/assets/colab-badge.svg\" alt=\"Open In Colab\"/></a>"
      ]
    },
    {
      "cell_type": "markdown",
      "source": [
        "Class"
      ],
      "metadata": {
        "id": "tnIr_CTFzPrD"
      }
    },
    {
      "cell_type": "code",
      "source": [
        "class MyClass:\n",
        "  pass          #create a class without variable and methods\n"
      ],
      "metadata": {
        "id": "MkTG9GqGzQkX"
      },
      "execution_count": 30,
      "outputs": []
    },
    {
      "cell_type": "code",
      "source": [
        "class MyCLass:\n",
        "  def __init__(self,name,age):\n",
        "    self.name = name     #create a class with attributes\n",
        "    self.age = age\n",
        "\n",
        "  def display(self):\n",
        "      print(self.name,self.age)\n",
        "\n",
        "person = MyClass(\"Elise Cutie\",18)    #create an object name\n",
        "\n",
        "print(person.name)\n",
        "print(person.age)\n",
        "\n",
        "person.display()                    #displays all attributes\n"
      ],
      "metadata": {
        "colab": {
          "base_uri": "https://localhost:8080/"
        },
        "id": "70vsFEWSz3tg",
        "outputId": "f469a315-3067-4cd5-f3a7-9663403365bf"
      },
      "execution_count": 77,
      "outputs": [
        {
          "output_type": "stream",
          "name": "stdout",
          "text": [
            "Elise Cutie\n",
            "18\n",
            "Elise Cutie 18\n"
          ]
        }
      ]
    },
    {
      "cell_type": "code",
      "source": [
        "#Application 1- Write a Python Program that computes for an area of rectangle: A = lxw\n",
        "\n",
        "class Rectangle:\n",
        "  def __init__(self,l,w):\n",
        "   self.l = l          #attribute names\n",
        "   self.w = w\n",
        "\n",
        "  def Area(self):\n",
        "    print(self.l*self.w)\n",
        "\n",
        "rect = Rectangle (7,3)\n",
        "rect.Area()\n"
      ],
      "metadata": {
        "colab": {
          "base_uri": "https://localhost:8080/"
        },
        "id": "IXB-jDbR3Gf-",
        "outputId": "fa36fd62-ce48-4bf9-d170-4f65ec607877"
      },
      "execution_count": 81,
      "outputs": [
        {
          "output_type": "stream",
          "name": "stdout",
          "text": [
            "21\n"
          ]
        }
      ]
    }
  ]
}