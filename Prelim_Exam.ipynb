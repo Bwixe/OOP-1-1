{
  "nbformat": 4,
  "nbformat_minor": 0,
  "metadata": {
    "colab": {
      "name": "Prelim Exam.ipynb",
      "provenance": [],
      "authorship_tag": "ABX9TyNEdPPoLdXgPqrwMhKjNu7l",
      "include_colab_link": true
    },
    "kernelspec": {
      "name": "python3",
      "display_name": "Python 3"
    },
    "language_info": {
      "name": "python"
    }
  },
  "cells": [
    {
      "cell_type": "markdown",
      "metadata": {
        "id": "view-in-github",
        "colab_type": "text"
      },
      "source": [
        "<a href=\"https://colab.research.google.com/github/Bwixe/OOP-1-1/blob/main/Prelim_Exam.ipynb\" target=\"_parent\"><img src=\"https://colab.research.google.com/assets/colab-badge.svg\" alt=\"Open In Colab\"/></a>"
      ]
    },
    {
      "cell_type": "code",
      "execution_count": 12,
      "metadata": {
        "colab": {
          "base_uri": "https://localhost:8080/"
        },
        "id": "wdD2yJ0c_yTV",
        "outputId": "c175ab6a-db1c-4ceb-8ad7-7bc95b7a94cd"
      },
      "outputs": [
        {
          "output_type": "stream",
          "name": "stdout",
          "text": [
            "name:Elise Brixe S. Cubol, student_no:202101864, age: 18,school: Cavite State University,course:Bachelor of Science in Computer Engineering\n"
          ]
        }
      ],
      "source": [
        "class Student:\n",
        "  def __init__(self,name,student_no,age,school,course):\n",
        "    self.name = name\n",
        "    self.student_no = student_no\n",
        "    self.age = age\n",
        "    self.school = school\n",
        "    self.course = course\n",
        "\n",
        "  def Info(self):\n",
        "    print(\"name:\" f\"{self.name}, student_no:\" f\"{self.student_no}, age:\" f\" {self.age},\" \"school:\" f\" {self.school},\" \"course:\" f\"{self.course}\")\n",
        "\n",
        "myself = Student(\"Elise Brixe S. Cubol\",\"202101864\",\"18\",\"Cavite State University\",\"Bachelor of Science in Computer Engineering\")\n",
        "myself.Info()\n",
        "    "
      ]
    }
  ]
}