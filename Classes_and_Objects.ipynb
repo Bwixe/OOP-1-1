{
  "nbformat": 4,
  "nbformat_minor": 0,
  "metadata": {
    "colab": {
      "name": "Classes and Objects.ipynb",
      "provenance": [],
      "include_colab_link": true
    },
    "kernelspec": {
      "name": "python3",
      "display_name": "Python 3"
    },
    "language_info": {
      "name": "python"
    }
  },
  "cells": [
    {
      "cell_type": "markdown",
      "metadata": {
        "id": "view-in-github",
        "colab_type": "text"
      },
      "source": [
        "<a href=\"https://colab.research.google.com/github/Bwixe/OOP-1-1/blob/main/Classes_and_Objects.ipynb\" target=\"_parent\"><img src=\"https://colab.research.google.com/assets/colab-badge.svg\" alt=\"Open In Colab\"/></a>"
      ]
    },
    {
      "cell_type": "markdown",
      "source": [
        "Application 2 - Write a python program that displays the full name of a student, student number, age, course and school. Create a class name OOP_1_1 and create Info() method to display the information of a student with full name, student_no, age, course, school as attributes."
      ],
      "metadata": {
        "id": "QthJgrue1qPy"
      }
    },
    {
      "cell_type": "code",
      "execution_count": null,
      "metadata": {
        "colab": {
          "base_uri": "https://localhost:8080/"
        },
        "id": "4LaB8F_F1fl1",
        "outputId": "1f59deba-1696-4a2c-fe12-93e070051483"
      },
      "outputs": [
        {
          "output_type": "stream",
          "name": "stdout",
          "text": [
            "My Name is Elise Brixe\n",
            "My student number is 202101864\n",
            "My Age is 18\n",
            "My Course is Bscpe\n",
            "My School is Cavite State University\n"
          ]
        }
      ],
      "source": [
        "class OOP_1_1:\n",
        " def __init__(self,fullname,student_no,age,course,school):\n",
        "   self.fullname = fullname\n",
        "   self.student_no = student_no\n",
        "   self.age = age\n",
        "   self.course = course\n",
        "   self.school = school\n",
        "\n",
        " def Info(self):\n",
        "    #print(\"self.fullname,self.student_no,self.age,self.course,self.school\")\n",
        "    print(\"My Name is\",self.fullname)\n",
        "    print(\"My student number is\",self.student_no)\n",
        "    print(\"My Age is\",self.age)\n",
        "    print(\"My Course is\",self.course)\n",
        "    print(\"My School is\",self.school)\n",
        "\n",
        "student = OOP_1_1(\"Elise Brixe\",202101864,18,\"Bscpe\",\"Cavite State University\")\n",
        "student.Info()"
      ]
    },
    {
      "cell_type": "markdown",
      "source": [
        "Application 3 - Define an Area() method of the class Circle that calculates the circle's area.Define a perimeter() method of the class which allows you to calculate the perimeter of the circle."
      ],
      "metadata": {
        "id": "HEkSciDf7RbU"
      }
    },
    {
      "cell_type": "code",
      "source": [
        "class Circle:\n",
        "  def __init__(self, π, r):\n",
        "    self.π = π\n",
        "    self.r = r\n",
        "\n",
        "  def Area(self):                               \n",
        "    print(self.π * self.r **2)\n",
        "\n",
        "  def Perimeter(self):                \n",
        "    print(2 * self.π * self.r)\n",
        "\n",
        "Circle = Circle(3.14,7)\n",
        "Circle.Area()\n",
        "Circle.Perimeter()\n"
      ],
      "metadata": {
        "colab": {
          "base_uri": "https://localhost:8080/"
        },
        "id": "X6jNIRme6u76",
        "outputId": "cc44c268-4acb-4a30-dc4b-8ef39a549d9d"
      },
      "execution_count": 28,
      "outputs": [
        {
          "output_type": "stream",
          "name": "stdout",
          "text": [
            "153.86\n",
            "43.96\n"
          ]
        }
      ]
    }
  ]
}